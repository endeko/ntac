{
 "cells": [
  {
   "cell_type": "markdown",
   "metadata": {},
   "source": [
    "# Analyze Network Packet with Python\n",
    "> created by __Bin Xiang__ (bin.xiang@polimi.it)"
   ]
  },
  {
   "cell_type": "markdown",
   "metadata": {},
   "source": [
    "## 1. Introduction\n",
    "### Network packet - PCAP\n",
    "\n",
    "> PCAP (packet capture) is a type of file containing packet data of a network.\n",
    "\n",
    "> _Check this link:_ [PCAP Next Generation Dump File Format - PCAP-DumpFileFormat2](https://www.tcpdump.org/pcap/pcap.html)\n",
    "\n",
    "### Analyzing tool\n",
    "- [__Scapy__](https://scapy.net/)\n",
    "> is a powerful interactive packet manipulation program. It is able to forge or decode packets of a wide number of protocols, send them on the wire, capture them, match requests and replies, and much more. Scapy can easily handle most classical tasks like scanning, tracerouting, probing, unit tests, attacks or network discovery. It can replace hping, arpspoof, arp-sk, arping, p0f and even some parts of Nmap, tcpdump, and tshark).\n",
    "- [__Wireshark__](https://www.wireshark.org/docs/wsug_html_chunked/)\n",
    "> is the world’s foremost and widely-used network protocol analyzer. It lets you see what’s happening on your network at a microscopic level and is the de facto (and often de jure) standard across many commercial and non-profit enterprises, government agencies, and educational institutions. Wireshark development thrives thanks to the volunteer contributions of networking experts around the globe and is the continuation of a project started by Gerald Combs in 1998."
   ]
  },
  {
   "cell_type": "markdown",
   "metadata": {},
   "source": [
    "## 2. Obtain network packets\n",
    "\n",
    "There are many ways to obtain packets. Here are several nice options:\n",
    "\n",
    "- [__Wireshark__](https://www.wireshark.org/)\n",
    "- [__Tcpdump__](https://www.tcpdump.org/)\n",
    "- [__Scapy__](https://scapy.net/)\n",
    "\n",
    "where __wireshark__ has GUI support. In the following, since we adopt __Scapy__ to parse pcap file, we also use it to capture network packets.\n",
    "\n",
    "### Capture packets\n",
    "> - To sniff packets, you need __<font color=red>root privileges</font>__, otherwise, you will get the \"_Operation not permitted_\" errors.\n",
    "> - To skip this problem, you can uncomment the following commands and run them in a __<font color=blue>scapy's interactive shell</font>__ with root privileges."
   ]
  },
  {
   "cell_type": "code",
   "execution_count": 1,
   "metadata": {},
   "outputs": [],
   "source": [
    "from scapy.all import * # Packet manipulation"
   ]
  },
  {
   "cell_type": "code",
   "execution_count": 2,
   "metadata": {},
   "outputs": [],
   "source": [
    "#pkts = sniff(count=10)       # sniff 10 packets\n",
    "#if pkts:                     # if pkts exist\n",
    "#    wrpcap(\"temp.pcap\",pkts) # save captured packets to a pcap file"
   ]
  },
  {
   "cell_type": "markdown",
   "metadata": {},
   "source": [
    "### Read packets"
   ]
  },
  {
   "cell_type": "code",
   "execution_count": 3,
   "metadata": {},
   "outputs": [],
   "source": [
    "pkts = rdpcap(\"temp.pcap\") # read and parse packets into memory"
   ]
  },
  {
   "cell_type": "markdown",
   "metadata": {},
   "source": [
    "- __<font color=blue>OR</font>__"
   ]
  },
  {
   "cell_type": "code",
   "execution_count": 4,
   "metadata": {},
   "outputs": [],
   "source": [
    "pkts = sniff(offline=\"temp.pcap\", count=10) # sniff in a offline way from a pcap file "
   ]
  },
  {
   "cell_type": "markdown",
   "metadata": {},
   "source": [
    "> Notice that, this can be very useful when you try to load a large size pcap file."
   ]
  },
  {
   "cell_type": "markdown",
   "metadata": {},
   "source": [
    "### Filter packets\n",
    "\n",
    "> sniff() uses __Berkeley Packet Filter (BPF)__ syntax (the same one as tcpdump).\n",
    "\n",
    "> [Check this link for more details about the syntax.](https://www.wireshark.org/docs/man-pages/pcap-filter.html)"
   ]
  },
  {
   "cell_type": "code",
   "execution_count": 5,
   "metadata": {},
   "outputs": [
    {
     "name": "stdout",
     "output_type": "stream",
     "text": [
      "Ether / IP / TCP 10.169.226.59:36112 > 216.58.205.132:https A\n",
      "Ether / IP / TCP 216.58.205.132:https > 10.169.226.59:36112 A\n",
      "Ether / IP / TCP 10.169.226.59:47924 > 172.217.23.99:https PA / Raw\n",
      "Ether / IP / TCP 172.217.23.99:https > 10.169.226.59:47924 A\n",
      "Ether / IP / TCP 172.217.23.99:https > 10.169.226.59:47924 PA / Raw\n",
      "Ether / IP / TCP 172.217.23.99:https > 10.169.226.59:47924 PA / Raw\n"
     ]
    }
   ],
   "source": [
    "pkts_filtered = sniff(offline=\"temp.pcap\", filter=\"tcp\", prn=lambda x:x.summary()) # filter all TCP packets"
   ]
  },
  {
   "cell_type": "markdown",
   "metadata": {},
   "source": [
    "> __prn__: function to apply to each packet. If something is returned, it is displayed."
   ]
  },
  {
   "cell_type": "code",
   "execution_count": 6,
   "metadata": {},
   "outputs": [
    {
     "name": "stdout",
     "output_type": "stream",
     "text": [
      "<Sniffed: TCP:6 UDP:1 ICMP:0 Other:3>\n",
      "<Sniffed: TCP:6 UDP:0 ICMP:0 Other:0>\n"
     ]
    }
   ],
   "source": [
    "print(pkts) # print a overview of pkts\n",
    "print(pkts_filtered)"
   ]
  },
  {
   "cell_type": "markdown",
   "metadata": {},
   "source": [
    "### Show packets details"
   ]
  },
  {
   "cell_type": "code",
   "execution_count": 7,
   "metadata": {},
   "outputs": [
    {
     "name": "stdout",
     "output_type": "stream",
     "text": [
      "Ether / IP / TCP 10.169.226.59:36112 > 216.58.205.132:https A\n"
     ]
    }
   ],
   "source": [
    "print(pkts[0].summary()) # summary of the first packet"
   ]
  },
  {
   "cell_type": "code",
   "execution_count": 8,
   "metadata": {},
   "outputs": [
    {
     "name": "stdout",
     "output_type": "stream",
     "text": [
      "###[ IP ]### \n",
      "  version   = 4\n",
      "  ihl       = 5\n",
      "  tos       = 0x0\n",
      "  len       = 52\n",
      "  id        = 7371\n",
      "  flags     = DF\n",
      "  frag      = 0\n",
      "  ttl       = 64\n",
      "  proto     = tcp\n",
      "  chksum    = 0x8b55\n",
      "  src       = 10.169.226.59\n",
      "  dst       = 216.58.205.132\n",
      "  \\options   \\\n",
      "###[ TCP ]### \n",
      "     sport     = 36112\n",
      "     dport     = https\n",
      "     seq       = 3292936675\n",
      "     ack       = 1115597772\n",
      "     dataofs   = 8\n",
      "     reserved  = 0\n",
      "     flags     = A\n",
      "     window    = 501\n",
      "     chksum    = 0xc6cd\n",
      "     urgptr    = 0\n",
      "     options   = [('NOP', None), ('NOP', None), ('Timestamp', (1426347376, 3775730836))]\n",
      "\n"
     ]
    }
   ],
   "source": [
    "pkts[0].payload.show() # show the payload details of the first packet"
   ]
  },
  {
   "cell_type": "markdown",
   "metadata": {},
   "source": [
    "## 3. Transform pcap to DataFrame\n",
    "\n",
    "### Retrieve layers in a single packet"
   ]
  },
  {
   "cell_type": "code",
   "execution_count": 9,
   "metadata": {},
   "outputs": [
    {
     "name": "stdout",
     "output_type": "stream",
     "text": [
      "<IP from Sniffed: TCP:6 UDP:1 ICMP:0 Other:0>\n"
     ]
    }
   ],
   "source": [
    "from scapy.layers.l2 import Ether\n",
    "from scapy.layers.inet import IP\n",
    "from scapy.layers.inet import TCP, UDP\n",
    "\n",
    "print(pkts[IP]) # a overview of all IP packets"
   ]
  },
  {
   "cell_type": "code",
   "execution_count": 10,
   "metadata": {},
   "outputs": [
    {
     "name": "stdout",
     "output_type": "stream",
     "text": [
      "['version', 'ihl', 'tos', 'len', 'id', 'flags', 'frag', 'ttl', 'proto', 'chksum', 'src', 'dst', 'options']\n",
      "['sport', 'dport', 'seq', 'ack', 'dataofs', 'reserved', 'flags', 'window', 'chksum', 'urgptr', 'options']\n"
     ]
    }
   ],
   "source": [
    "# Store the pre-defined fields name in IP, TCP layers\n",
    "f_ip = [field.name for field in IP().fields_desc]\n",
    "f_tcp = [field.name for field in TCP().fields_desc]\n",
    "print(f_ip)  # field name of IP Layer\n",
    "print(f_tcp) # field name of TCP Layer\n",
    "\n",
    "f_all = f_ip + ['time'] + f_tcp + ['payload']"
   ]
  },
  {
   "cell_type": "code",
   "execution_count": 11,
   "metadata": {},
   "outputs": [
    {
     "name": "stdout",
     "output_type": "stream",
     "text": [
      "Shape:  (7, 26) \n",
      "\n",
      "version                  4\n",
      "ihl                      5\n",
      "tos                      0\n",
      "len                     52\n",
      "id                    7371\n",
      "flags                   DF\n",
      "frag                     0\n",
      "ttl                     64\n",
      "proto                    6\n",
      "chksum               35669\n",
      "src          10.169.226.59\n",
      "dst         216.58.205.132\n",
      "options                  0\n",
      "time           1.55743e+09\n",
      "sport                36112\n",
      "dport                  443\n",
      "seq             3292936675\n",
      "ack             1115597772\n",
      "dataofs                  8\n",
      "reserved                 0\n",
      "flags                    A\n",
      "window                 501\n",
      "chksum               50893\n",
      "urgptr                   0\n",
      "options                  3\n",
      "payload                  0\n",
      "Name: 0, dtype: object \n",
      "\n"
     ]
    },
    {
     "data": {
      "text/html": [
       "<div>\n",
       "<style scoped>\n",
       "    .dataframe tbody tr th:only-of-type {\n",
       "        vertical-align: middle;\n",
       "    }\n",
       "\n",
       "    .dataframe tbody tr th {\n",
       "        vertical-align: top;\n",
       "    }\n",
       "\n",
       "    .dataframe thead th {\n",
       "        text-align: right;\n",
       "    }\n",
       "</style>\n",
       "<table border=\"1\" class=\"dataframe\">\n",
       "  <thead>\n",
       "    <tr style=\"text-align: right;\">\n",
       "      <th></th>\n",
       "      <th>time</th>\n",
       "      <th>src</th>\n",
       "      <th>dst</th>\n",
       "      <th>sport</th>\n",
       "      <th>dport</th>\n",
       "    </tr>\n",
       "  </thead>\n",
       "  <tbody>\n",
       "    <tr>\n",
       "      <th>0</th>\n",
       "      <td>1.557433e+09</td>\n",
       "      <td>10.169.226.59</td>\n",
       "      <td>216.58.205.132</td>\n",
       "      <td>36112</td>\n",
       "      <td>443</td>\n",
       "    </tr>\n",
       "    <tr>\n",
       "      <th>1</th>\n",
       "      <td>1.557433e+09</td>\n",
       "      <td>216.58.205.132</td>\n",
       "      <td>10.169.226.59</td>\n",
       "      <td>443</td>\n",
       "      <td>36112</td>\n",
       "    </tr>\n",
       "    <tr>\n",
       "      <th>2</th>\n",
       "      <td>1.557433e+09</td>\n",
       "      <td>10.169.227.252</td>\n",
       "      <td>224.0.0.2</td>\n",
       "      <td>1985</td>\n",
       "      <td>1985</td>\n",
       "    </tr>\n",
       "    <tr>\n",
       "      <th>3</th>\n",
       "      <td>1.557433e+09</td>\n",
       "      <td>10.169.226.59</td>\n",
       "      <td>172.217.23.99</td>\n",
       "      <td>47924</td>\n",
       "      <td>443</td>\n",
       "    </tr>\n",
       "    <tr>\n",
       "      <th>4</th>\n",
       "      <td>1.557433e+09</td>\n",
       "      <td>172.217.23.99</td>\n",
       "      <td>10.169.226.59</td>\n",
       "      <td>443</td>\n",
       "      <td>47924</td>\n",
       "    </tr>\n",
       "    <tr>\n",
       "      <th>5</th>\n",
       "      <td>1.557433e+09</td>\n",
       "      <td>172.217.23.99</td>\n",
       "      <td>10.169.226.59</td>\n",
       "      <td>443</td>\n",
       "      <td>47924</td>\n",
       "    </tr>\n",
       "    <tr>\n",
       "      <th>6</th>\n",
       "      <td>1.557433e+09</td>\n",
       "      <td>172.217.23.99</td>\n",
       "      <td>10.169.226.59</td>\n",
       "      <td>443</td>\n",
       "      <td>47924</td>\n",
       "    </tr>\n",
       "  </tbody>\n",
       "</table>\n",
       "</div>"
      ],
      "text/plain": [
       "           time             src             dst  sport  dport\n",
       "0  1.557433e+09   10.169.226.59  216.58.205.132  36112    443\n",
       "1  1.557433e+09  216.58.205.132   10.169.226.59    443  36112\n",
       "2  1.557433e+09  10.169.227.252       224.0.0.2   1985   1985\n",
       "3  1.557433e+09   10.169.226.59   172.217.23.99  47924    443\n",
       "4  1.557433e+09   172.217.23.99   10.169.226.59    443  47924\n",
       "5  1.557433e+09   172.217.23.99   10.169.226.59    443  47924\n",
       "6  1.557433e+09   172.217.23.99   10.169.226.59    443  47924"
      ]
     },
     "execution_count": 11,
     "metadata": {},
     "output_type": "execute_result"
    }
   ],
   "source": [
    "# Data structures and data analysis\n",
    "import pandas as pd\n",
    "\n",
    "# Blank DataFrame\n",
    "df = pd.DataFrame(columns=f_all)\n",
    "for packet in pkts[IP]:\n",
    "     # store data for each row of DataFrame\n",
    "    field_values = []\n",
    "    \n",
    "    # Read values of IP fields\n",
    "    for field in f_ip:\n",
    "        if field == 'options':\n",
    "            # we only store the number of options defined in IP Header\n",
    "            field_values.append(len(packet[IP].fields[field]))\n",
    "        else:\n",
    "            field_values.append(packet[IP].fields[field])\n",
    "    \n",
    "    # Read values of Time\n",
    "    field_values.append(packet.time)\n",
    "    \n",
    "    # Read values of TCP fields\n",
    "    layer_type = type(packet[IP].payload)\n",
    "    for field in f_tcp:\n",
    "        try:\n",
    "            if field == 'options':\n",
    "                field_values.append(len(packet[layer_type].fields[field]))\n",
    "            else:\n",
    "                field_values.append(packet[layer_type].fields[field])\n",
    "        except:\n",
    "            # the field value may not exist\n",
    "            field_values.append(None)\n",
    "    \n",
    "    # Read values of Payload\n",
    "    field_values.append(len(packet[layer_type].payload))\n",
    "    \n",
    "    # Fill the data of one row\n",
    "    df_append = pd.DataFrame([field_values], columns=f_all)\n",
    "    # Append row in df\n",
    "    df = pd.concat([df, df_append], axis=0)\n",
    "\n",
    "# Reset index\n",
    "df = df.reset_index()\n",
    "df = df.drop(columns=\"index\")\n",
    "\n",
    "# shape\n",
    "print(\"Shape: \", df.shape, '\\n')\n",
    "# first row\n",
    "print(df.iloc[0], '\\n')\n",
    "# table with specified fields\n",
    "df[['time', 'src', 'dst', 'sport', 'dport']]"
   ]
  },
  {
   "cell_type": "markdown",
   "metadata": {},
   "source": [
    "## 4. Statistics"
   ]
  },
  {
   "cell_type": "code",
   "execution_count": 12,
   "metadata": {},
   "outputs": [
    {
     "name": "stdout",
     "output_type": "stream",
     "text": [
      "count                 7\n",
      "unique                4\n",
      "top       172.217.23.99\n",
      "freq                  3\n",
      "Name: src, dtype: object \n",
      "\n",
      "172.217.23.99\n",
      "['10.169.226.59' '216.58.205.132' '10.169.227.252' '172.217.23.99']\n"
     ]
    }
   ],
   "source": [
    "print(df['src'].describe(), '\\n')  # show description of the source addresses\n",
    "print(df['src'].describe()['top']) # top ip address\n",
    "print(df['src'].unique())          # unique address"
   ]
  },
  {
   "cell_type": "code",
   "execution_count": 13,
   "metadata": {},
   "outputs": [
    {
     "data": {
      "text/plain": [
       "<matplotlib.axes._subplots.AxesSubplot at 0x7f65dc114b38>"
      ]
     },
     "execution_count": 13,
     "metadata": {},
     "output_type": "execute_result"
    },
    {
     "data": {
      "image/png": "[encoded data removed]",
      "text/plain": [
       "<Figure size 576x144 with 1 Axes>"
      ]
     },
     "metadata": {
      "needs_background": "light"
     },
     "output_type": "display_data"
    }
   ],
   "source": [
    "src_addr = df.groupby(\"src\")['payload'].sum() # show the sum of payload for each src ip\n",
    "src_addr.plot(kind='barh', figsize=(8,2))     # plot figure"
   ]
  }
 ],
 "metadata": {
  "kernelspec": {
   "display_name": "Python 3",
   "language": "python",
   "name": "python3"
  },
  "language_info": {
   "codemirror_mode": {
    "name": "ipython",
    "version": 3
   },
   "file_extension": ".py",
   "mimetype": "text/x-python",
   "name": "python",
   "nbconvert_exporter": "python",
   "pygments_lexer": "ipython3",
   "version": "3.6.7"
  }
 },
 "nbformat": 4,
 "nbformat_minor": 2
}
